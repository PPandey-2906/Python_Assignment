{
 "cells": [
  {
   "cell_type": "code",
   "execution_count": 13,
   "id": "950944cc-c57a-4800-96b6-20e244dbe81b",
   "metadata": {},
   "outputs": [
    {
     "name": "stdout",
     "output_type": "stream",
     "text": [
      "hello_world\n"
     ]
    }
   ],
   "source": [
    "string1=\"hello\" #example 1 #concatenate two strings.\n",
    "string2=\"world\"\n",
    "new_string=(string1 +\"_\"  + string2)\n",
    "print(new_string)"
   ]
  },
  {
   "cell_type": "code",
   "execution_count": null,
   "id": "55b6138c-2771-498e-8f44-9f96b2f0f45f",
   "metadata": {},
   "outputs": [],
   "source": [
    " #+ operator= used to  add the two string in single line.         # see example 1\n",
    "#join(\"_\")= Used to join elements separated by string sperator.  # see example 1\n"
   ]
  },
  {
   "cell_type": "code",
   "execution_count": 1,
   "id": "6e352079-3b12-4d20-8628-f46263a511a7",
   "metadata": {},
   "outputs": [
    {
     "name": "stdout",
     "output_type": "stream",
     "text": [
      "1\n"
     ]
    }
   ],
   "source": [
    "name= \"hello \" #str.find method is used to access individual characters in a string.\n",
    "print(name.find(\"e\"))\n"
   ]
  },
  {
   "cell_type": "code",
   "execution_count": 25,
   "id": "a29bb4bb-a6e6-4881-9ed6-6551d6e4ec95",
   "metadata": {},
   "outputs": [
    {
     "name": "stdout",
     "output_type": "stream",
     "text": [
      "5\n"
     ]
    }
   ],
   "source": [
    "string=\"hello\" #len= this method is used to find the length of a string\n",
    "print(len(string))"
   ]
  },
  {
   "cell_type": "code",
   "execution_count": 29,
   "id": "e920dcc1-4ad7-451f-82d3-367d4aaa595c",
   "metadata": {},
   "outputs": [
    {
     "name": "stdout",
     "output_type": "stream",
     "text": [
      "DELHI\n"
     ]
    }
   ],
   "source": [
    "name=\"delhi\"  #str.upper()=covert all string character to uppercase.name=\"hello\"\n",
    "print(name.upper())\n"
   ]
  },
  {
   "cell_type": "code",
   "execution_count": 31,
   "id": "59295e53-291b-4ee5-9b17-52758b3d35f9",
   "metadata": {},
   "outputs": [
    {
     "name": "stdout",
     "output_type": "stream",
     "text": [
      "noida\n"
     ]
    }
   ],
   "source": [
    "name=\"NOIDA\"  #str.lower()=covert all string chharacter to lowercase.\n",
    "print(name.lower())\n"
   ]
  },
  {
   "cell_type": "code",
   "execution_count": 33,
   "id": "8a601076-42c0-43a5-9e7b-9be0964c8a9d",
   "metadata": {},
   "outputs": [
    {
     "name": "stdout",
     "output_type": "stream",
     "text": [
      "hello delhi\n"
     ]
    }
   ],
   "source": [
    "name=\"hello world\"  #str.replace()= replace substring to  new string.\n",
    "new_name=name.replace(\"world\",\"delhi\")\n",
    "print(new_name)\n"
   ]
  },
  {
   "cell_type": "code",
   "execution_count": 59,
   "id": "72962d22-09c1-4681-8306-f986004e1921",
   "metadata": {},
   "outputs": [
    {
     "name": "stdout",
     "output_type": "stream",
     "text": [
      "['hello', 'ducat']\n"
     ]
    }
   ],
   "source": [
    "name=\"hello ducat\"  #str.split()=splits the string into sub string based on delimeter..\n",
    "print(name.split(\" \"))"
   ]
  },
  {
   "cell_type": "code",
   "execution_count": 61,
   "id": "b2c3c179-c58b-4585-9ca7-d9c49957fe60",
   "metadata": {},
   "outputs": [
    {
     "name": "stdout",
     "output_type": "stream",
     "text": [
      "True\n"
     ]
    }
   ],
   "source": [
    "name=\"this is noida\"  #str.startswith= checks if the string is start with particular substring.\n",
    "print(name.startswith(\"this\"))"
   ]
  },
  {
   "cell_type": "code",
   "execution_count": 63,
   "id": "fc6e9fd9-33fb-44ca-bffe-6af535f0b2e5",
   "metadata": {},
   "outputs": [
    {
     "name": "stdout",
     "output_type": "stream",
     "text": [
      "True\n"
     ]
    }
   ],
   "source": [
    "name=\"this is noida\"   #str.endswith= checks if the string is end with particular substring.\n",
    "print(name.endswith(\"da\"))"
   ]
  },
  {
   "cell_type": "code",
   "execution_count": 65,
   "id": "9834ed26-5164-4c5f-84ac-cdaa54221169",
   "metadata": {},
   "outputs": [
    {
     "name": "stdout",
     "output_type": "stream",
     "text": [
      "this is python\n"
     ]
    }
   ],
   "source": [
    "name=\"  this is python \"  #str.strip()=Remove the whitespace from the string.\n",
    "print(name.strip())\n"
   ]
  },
  {
   "cell_type": "code",
   "execution_count": 67,
   "id": "a789023e-a4d8-4e5d-8361-9024bec0b2ba",
   "metadata": {},
   "outputs": [
    {
     "name": "stdout",
     "output_type": "stream",
     "text": [
      "6\n"
     ]
    }
   ],
   "source": [
    "name =\"hello noida\"   #str.index=find the index of the first occurence of  a specified substring in a string.\n",
    "print(name.index(\"noida\"))"
   ]
  },
  {
   "cell_type": "code",
   "execution_count": 69,
   "id": "48147bb9-abc6-4c45-8e25-cdc6ab92366d",
   "metadata": {},
   "outputs": [
    {
     "name": "stdout",
     "output_type": "stream",
     "text": [
      "15\n"
     ]
    }
   ],
   "source": [
    "name=\"this is python\" #count the no of occurence of substring in a string.\n",
    "print(name.count(\"\"))  "
   ]
  },
  {
   "cell_type": "code",
   "execution_count": 19,
   "id": "2b19809f-5956-49c6-828e-1ea5f6525e26",
   "metadata": {},
   "outputs": [
    {
     "name": "stdout",
     "output_type": "stream",
     "text": [
      "True\n"
     ]
    }
   ],
   "source": [
    "name = \"helloworld\"   #str.isalpha()= check all characters in the string are alphabatic.\n",
    "print(name.isalpha())"
   ]
  },
  {
   "cell_type": "code",
   "execution_count": 27,
   "id": "b9ab8577-eb62-4dae-a275-f9f8ddd9aaf7",
   "metadata": {},
   "outputs": [
    {
     "name": "stdout",
     "output_type": "stream",
     "text": [
      "True\n"
     ]
    }
   ],
   "source": [
    "string=\"1234\"  #str.isnumeric()= check all the characters in the string are numeric.return true otherwise  return false.\n",
    "print(string.isnumeric())"
   ]
  },
  {
   "cell_type": "code",
   "execution_count": 43,
   "id": "7e6bf01f-a5b0-4bf0-9258-0a20b1fc814e",
   "metadata": {},
   "outputs": [
    {
     "name": "stdout",
     "output_type": "stream",
     "text": [
      "True\n",
      "False\n",
      "True\n"
     ]
    }
   ],
   "source": [
    "def is_palindrome(s):    #To check if a string is palindrome or not.\n",
    "    return (s == s[::-1])\n",
    "str1 =\"radar\"\n",
    "str2=\"hello\"\n",
    "str3=\"racecar\"\n",
    "\n",
    "print(is_palindrome(str1))\n",
    "print(is_palindrome(str2))\n",
    "print(is_palindrome(str3))"
   ]
  },
  {
   "cell_type": "code",
   "execution_count": 101,
   "id": "12ccab29-594c-4bc1-9921-1bfd6f4544c6",
   "metadata": {},
   "outputs": [
    {
     "name": "stdout",
     "output_type": "stream",
     "text": [
      "nohtyp si siht\n"
     ]
    }
   ],
   "source": [
    "name=\"this is python\" #Using slicing you can reverse a string in python.\n",
    "reverse=name[::-1]\n",
    "print(reverse)"
   ]
  },
  {
   "cell_type": "code",
   "execution_count": 109,
   "id": "259648cc-42c1-407f-8460-974092164b82",
   "metadata": {},
   "outputs": [
    {
     "name": "stdout",
     "output_type": "stream",
     "text": [
      "My name is Priyanshu and i am 24 years old.My course is data science.\n"
     ]
    }
   ],
   "source": [
    "name=\"Priyanshu\"  #str.format()=Used to format strings with placeholders for variables values.\n",
    "age = 24\n",
    "course=\"data science\"\n",
    "new_message=\"My name is {} and i am {} years old.My course is {}.\".format(name,age,course)\n",
    "print(new_message)"
   ]
  },
  {
   "cell_type": "code",
   "execution_count": 127,
   "id": "9e4e88bf-0eb9-436f-9f21-a76e0335d5ff",
   "metadata": {},
   "outputs": [
    {
     "name": "stdout",
     "output_type": "stream",
     "text": [
      " Priyanshu\n"
     ]
    }
   ],
   "source": [
    "string =\"My name is Priyanshu\"     #Using Slicing you can access a substring of a string.\n",
    "slicing_string = string[10:20]\n",
    "print(slicing_string)"
   ]
  },
  {
   "cell_type": "code",
   "execution_count": 200,
   "id": "6d8357c7-e8ba-401e-b015-1f2b7d9afcb5",
   "metadata": {},
   "outputs": [
    {
     "name": "stdout",
     "output_type": "stream",
     "text": [
      "hllo _ world \n"
     ]
    }
   ],
   "source": [
    "name = str.maketrans(\"@\",\"_\",\"aei\")   #str.trasnlate()=  Used to Remove specific characters from a string.\n",
    "new_name =\"hello @ world \"\n",
    "print(new_name.translate(name))\n"
   ]
  },
  {
   "cell_type": "code",
   "execution_count": 1,
   "id": "adb363ee-1726-411e-b756-9114ce6ba057",
   "metadata": {},
   "outputs": [
    {
     "data": {
      "text/plain": [
       "'C:\\\\Users\\\\rajpr'"
      ]
     },
     "execution_count": 1,
     "metadata": {},
     "output_type": "execute_result"
    }
   ],
   "source": [
    "pwd"
   ]
  },
  {
   "cell_type": "code",
   "execution_count": null,
   "id": "75c32a51-2bc8-48e9-b670-9ead6eb82376",
   "metadata": {},
   "outputs": [],
   "source": []
  }
 ],
 "metadata": {
  "kernelspec": {
   "display_name": "Python 3 (ipykernel)",
   "language": "python",
   "name": "python3"
  },
  "language_info": {
   "codemirror_mode": {
    "name": "ipython",
    "version": 3
   },
   "file_extension": ".py",
   "mimetype": "text/x-python",
   "name": "python",
   "nbconvert_exporter": "python",
   "pygments_lexer": "ipython3",
   "version": "3.12.4"
  }
 },
 "nbformat": 4,
 "nbformat_minor": 5
}
